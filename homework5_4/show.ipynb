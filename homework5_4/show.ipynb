{
 "cells": [
  {
   "cell_type": "markdown",
   "metadata": {},
   "source": [
    "# Afrel 楕円コース PID制御 パラメータチューニング(twiddle)"
   ]
  },
  {
   "cell_type": "code",
   "execution_count": 1,
   "metadata": {},
   "outputs": [],
   "source": [
    "from homework5_4.task import robot\n",
    "from math import *\n",
    "import matplotlib.pyplot as plt"
   ]
  },
  {
   "cell_type": "markdown",
   "metadata": {},
   "source": [
    "## 楕円コース\n",
    "\n",
    "- [楕円コース | すべての商品 | | 教育版LEGO MINDSTORMS正規代理店 アフレル](http://afrel-shop.com/shopdetail/007001000018/)"
   ]
  },
  {
   "cell_type": "code",
   "execution_count": 2,
   "metadata": {},
   "outputs": [],
   "source": [
    "radius = 13.5\n",
    "height = 9.0\n",
    "width = 29.0\n",
    "params = [1.0, 10.0, 0.01]"
   ]
  },
  {
   "cell_type": "code",
   "execution_count": 3,
   "metadata": {},
   "outputs": [],
   "source": [
    "x_track = [cos((t * pi / 200) + (pi / 2)) * radius + radius for t in range(100)] + \\\n",
    "          [cos((t * pi / 200) + pi) * radius + radius for t in range(100)] + \\\n",
    "          [cos((t * pi / 200) + (3.0 * pi / 2)) * radius + radius + width for t in range(100)] + \\\n",
    "          [cos((t * pi / 200)) * radius + radius + width for t in range(100)] + \\\n",
    "          [radius]\n",
    "\n",
    "y_track = [sin((t * pi / 200) + (pi / 2)) * radius + radius + height for t in range(100)] + \\\n",
    "          [sin((t * pi / 200) + pi) * radius + radius for t in range(100)] + \\\n",
    "          [sin((t * pi / 200) + (3.0 * pi / 2)) * radius + radius for t in range(100)] + \\\n",
    "          [sin((t * pi / 200)) * radius + radius + height for t in range(100)] + \\\n",
    "          [radius * 2.0 + height]"
   ]
  },
  {
   "cell_type": "code",
   "execution_count": 4,
   "metadata": {},
   "outputs": [
    {
     "data": {
      "image/png": "[encoded data removed]",
      "text/plain": [
       "<matplotlib.figure.Figure at 0x7f1df56d8b70>"
      ]
     },
     "metadata": {},
     "output_type": "display_data"
    }
   ],
   "source": [
    "plt.figure()\n",
    "plt.plot(x_track, y_track, 'k-')\n",
    "plt.show()"
   ]
  },
  {
   "cell_type": "markdown",
   "metadata": {},
   "source": [
    "## Running a robotic car"
   ]
  },
  {
   "cell_type": "code",
   "execution_count": 5,
   "metadata": {},
   "outputs": [],
   "source": [
    "x_path = [0.0, ]\n",
    "y_path = [radius, ]"
   ]
  },
  {
   "cell_type": "code",
   "execution_count": 6,
   "metadata": {
    "collapsed": true
   },
   "outputs": [],
   "source": [
    "myrobot = robot()\n",
    "myrobot.set(0.0, radius, pi / 2.0)\n",
    "speed = 1.0\n",
    "err = 0.0\n",
    "int_crosstrack_error = 0.0\n",
    "N = 100\n",
    "\n",
    "crosstrack_error = myrobot.cte(radius, width, height)\n",
    "\n",
    "for i in range(N * 2):\n",
    "    diff_crosstrack_error = - crosstrack_error\n",
    "    crosstrack_error = myrobot.cte(radius, width, height)\n",
    "    diff_crosstrack_error += crosstrack_error\n",
    "    int_crosstrack_error += crosstrack_error\n",
    "    steer = - params[0] * crosstrack_error \\\n",
    "            - params[1] * diff_crosstrack_error \\\n",
    "            - params[2] * int_crosstrack_error\n",
    "    myrobot = myrobot.move(steer, speed)\n",
    "    if i >= N:\n",
    "        err += crosstrack_error ** 2\n",
    "    x_path.append(myrobot.x)\n",
    "    y_path.append(myrobot.y)"
   ]
  },
  {
   "cell_type": "code",
   "execution_count": 7,
   "metadata": {},
   "outputs": [
    {
     "data": {
      "image/png": "[encoded data removed]",
      "text/plain": [
       "<matplotlib.figure.Figure at 0x7f1df360d630>"
      ]
     },
     "metadata": {},
     "output_type": "display_data"
    }
   ],
   "source": [
    "plt.plot(x_track, y_track, 'k-', x_path, y_path, 'bo')\n",
    "plt.axis([-radius * 0.1, 2.1 * radius + width, -radius * 0.1, 2.1 * radius + height])\n",
    "plt.show()"
   ]
  },
  {
   "cell_type": "markdown",
   "metadata": {},
   "source": [
    "## Twiddle\n",
    "- [Twiddle - Artificial Intelligence for Robotics - YouTube](https://www.youtube.com/watch?v=2uQ2BSzDvXs)"
   ]
  },
  {
   "cell_type": "code",
   "execution_count": 8,
   "metadata": {},
   "outputs": [],
   "source": [
    "def run(params, printflag=False):\n",
    "    myrobot = robot()\n",
    "    myrobot.set(0.0, 1.0, 0.0)\n",
    "    speed = 1.0\n",
    "    err = 0.0\n",
    "    int_crosstrack_error = 0.0\n",
    "    N = 100\n",
    "    # myrobot.set_noise(0.1, 0.0)\n",
    "    myrobot.set_steering_drift(10.0 / 180.0 * pi)  # 10 degree steering error\n",
    "\n",
    "    crosstrack_error = myrobot.y\n",
    "\n",
    "    for i in range(N * 2):\n",
    "\n",
    "        diff_crosstrack_error = myrobot.y - crosstrack_error\n",
    "        crosstrack_error = myrobot.y\n",
    "        int_crosstrack_error += crosstrack_error\n",
    "\n",
    "        steer = - params[0] * crosstrack_error \\\n",
    "                - params[1] * diff_crosstrack_error \\\n",
    "                - int_crosstrack_error * params[2]\n",
    "        myrobot = myrobot.move(steer, speed)\n",
    "        if i >= N:\n",
    "            err += (crosstrack_error ** 2)\n",
    "        if printflag:\n",
    "            print(myrobot, steer)\n",
    "    return err / float(N)\n",
    "\n",
    "\n",
    "def twiddle(tol=0.001):  #Make this tolerance bigger if you are timing out!\n",
    "    p = [0, 0, 0]\n",
    "    dp = [1, 1, 1]\n",
    "\n",
    "    best_error = run(p)\n",
    "    n = 0\n",
    "    # sum = integral of the cross track error\n",
    "    while sum(dp) > tol:\n",
    "        print(\"Iteration {}, best error = {}\".format(n, best_error))\n",
    "        for i in range(len(p)):\n",
    "            p[i] += dp[i]\n",
    "            err = run(p)\n",
    "            if err < best_error:\n",
    "                # error is better than our best error\n",
    "                best_error = err\n",
    "                dp[i] *= 1.1\n",
    "            else:\n",
    "                # error is not better than before\n",
    "                # try other directions\n",
    "                p[i] -= 2.0 * dp[i]\n",
    "                err = run(p)\n",
    "                if err < best_error:\n",
    "                    best_error = err\n",
    "                    dp[i] *= 1.1\n",
    "                else:\n",
    "                    # did not succeed - decrease increments\n",
    "                    p[i] += dp[i]\n",
    "                    dp[i] *= 0.9\n",
    "        n += 1\n",
    "    return p"
   ]
  },
  {
   "cell_type": "code",
   "execution_count": 10,
   "metadata": {},
   "outputs": [
    {
     "name": "stdout",
     "output_type": "stream",
     "text": [
      "Iteration 0, best error = 8315.955485215645\nIteration 1, best error = 0.044546416135712856\nIteration 2, best error = 0.030667733375864255\nIteration 3, best error = 0.03046869606124707\nIteration 4, best error = 0.008518880324802245\nIteration 5, best error = 0.008518668206935719\nIteration 6, best error = 0.008518667701338564\nIteration 7, best error = 0.008518667701338564\nIteration 8, best error = 0.008518667701338564\nIteration 9, best error = 0.00851866770043554\nIteration 10, best error = 0.00851866770043554\nIteration 11, best error = 9.36429057863156e-13\nIteration 12, best error = 8.118576224499871e-15\n"
     ]
    },
    {
     "name": "stdout",
     "output_type": "stream",
     "text": [
      "Iteration 13, best error = 8.118576224499871e-15\nIteration 14, best error = 8.118576224499871e-15\nIteration 15, best error = 8.118576224499871e-15\nIteration 16, best error = 8.118576224499871e-15\nIteration 17, best error = 8.118576224499871e-15\nIteration 18, best error = 8.118576224499871e-15\nIteration 19, best error = 5.8949635515091935e-15\nIteration 20, best error = 2.935905344458206e-18\nIteration 21, best error = 2.935905344458206e-18\nIteration 22, best error = 2.935905344458206e-18\nIteration 23, best error = 1.240039961130423e-18\nIteration 24, best error = 1.240039961130423e-18\nIteration 25, best error = 1.240039961130423e-18\nIteration 26, best error = 7.043395458551602e-19\nIteration 27, best error = 6.448015619853438e-20\nIteration 28, best error = 6.448015619853438e-20\nIteration 29, best error = 6.448015619853438e-20\nIteration 30, best error = 6.448015619853438e-20\nIteration 31, best error = 4.91946882072856e-21\n"
     ]
    },
    {
     "name": "stdout",
     "output_type": "stream",
     "text": [
      "Iteration 32, best error = 4.91946882072856e-21\nIteration 33, best error = 9.615713358638735e-23\nIteration 34, best error = 9.615713358638735e-23\nIteration 35, best error = 9.615713358638735e-23\nIteration 36, best error = 9.615713358638735e-23\nIteration 37, best error = 9.615713358638735e-23\nIteration 38, best error = 9.615713358638735e-23\nIteration 39, best error = 9.615713358638735e-23\n"
     ]
    },
    {
     "name": "stdout",
     "output_type": "stream",
     "text": [
      "Iteration 40, best error = 9.615713358638735e-23\nIteration 41, best error = 9.615713358638735e-23\nIteration 42, best error = 9.615713358638735e-23\nIteration 43, best error = 9.615713358638735e-23\nIteration 44, best error = 9.615713358638735e-23\nIteration 45, best error = 9.615713358638735e-23\nIteration 46, best error = 9.615713358638735e-23\nIteration 47, best error = 9.615713358638735e-23\nIteration 48, best error = 9.615713358638735e-23\nIteration 49, best error = 9.615713358638735e-23\nIteration 50, best error = 9.615713358638735e-23\nIteration 51, best error = 9.615713358638735e-23\nIteration 52, best error = 9.615713358638735e-23\nIteration 53, best error = 9.615713358638735e-23\nIteration 54, best error = 9.615713358638735e-23\nIteration 55, best error = 9.615713358638735e-23\nIteration 56, best error = 9.615713358638735e-23\nIteration 57, best error = 9.615713358638735e-23\nIteration 58, best error = 9.615713358638735e-23"
     ]
    },
    {
     "name": "stdout",
     "output_type": "stream",
     "text": [
      "\nIteration 59, best error = 9.615713358638735e-23\nIteration 60, best error = 9.615713358638735e-23\nIteration 61, best error = 9.615713358638735e-23\nIteration 62, best error = 9.615713358638735e-23\nIteration 63, best error = 9.615713358638735e-23\nIteration 64, best error = 9.615713358638735e-23\nIteration 65, best error = 9.615713358638735e-23\nIteration 66, best error = 9.615713358638735e-23\nIteration 67, best error = 9.615713358638735e-23\nIteration 68, best error = 9.615713358638735e-23\nIteration 69, best error = 9.615713358638735e-23\nIteration 70, best error = 8.52429893895755e-23\n"
     ]
    },
    {
     "name": "stdout",
     "output_type": "stream",
     "text": [
      "Iteration 71, best error = 8.52429893895755e-23\nIteration 72, best error = 6.89583556100888e-23\nIteration 73, best error = 6.89583556100888e-23\nIteration 74, best error = 6.89583556100888e-23\nIteration 75, best error = 4.145006145539035e-23\nIteration 76, best error = 4.145006145539035e-23\nIteration 77, best error = 4.145006145539035e-23\nIteration 78, best error = 4.145006145539035e-23\nIteration 79, best error = 2.5204962731676635e-23\nIteration 80, best error = 2.5204962731676635e-23\nIteration 81, best error = 2.5204962731676635e-23\nIteration 82, best error = 2.2815797166143525e-23\nIteration 83, best error = 2.2815797166143525e-23\nIteration 84, best error = 1.8528427475010002e-23\nIteration 85, best error = 1.692511989245343e-23\nIteration 86, best error = 1.4714089527272985e-23\nIteration 87, best error = 1.4714089527272985e-23\nIteration 88, best error = 1.4714089527272985e-23\n"
     ]
    },
    {
     "name": "stdout",
     "output_type": "stream",
     "text": [
      "Iteration 89, best error = 1.0446065646529456e-23\nIteration 90, best error = 1.0446065646529456e-23\nIteration 91, best error = 7.068232261492995e-24\nIteration 92, best error = 6.284762759979449e-24\nIteration 93, best error = 6.284762759979449e-24\nIteration 94, best error = 5.217848562917681e-24\nIteration 95, best error = 4.838097998336666e-24\nIteration 96, best error = 4.352319633069647e-24\nIteration 97, best error = 4.352319633069647e-24\nIteration 98, best error = 4.352319633069647e-24\nIteration 99, best error = 3.25800247296385e-24\nIteration 100, best error = 3.115690350598778e-24\nIteration 101, best error = 1.7799813352217147e-24\nIteration 102, best error = 1.7799813352217147e-24\nIteration 103, best error = 1.7799813352217147e-24\nIteration 104, best error = 1.6110446580330185e-24\nIteration 105, best error = 1.444549485191908e-24\nIteration 106, best error = 1.444549485191908e-24\nIteration 107, best error = 9.355395139345826e-25\nIteration 108, best error = 9.355395139345826e-25\n"
     ]
    },
    {
     "data": {
      "text/plain": [
       "[1.666025810674142, 7.575994288835168, 0.1650652674944419]"
      ]
     },
     "execution_count": 10,
     "metadata": {},
     "output_type": "execute_result"
    }
   ],
   "source": [
    "params = twiddle()\n",
    "params"
   ]
  }
 ],
 "metadata": {
  "kernelspec": {
   "display_name": "Python 2",
   "language": "python",
   "name": "python2"
  },
  "language_info": {
   "codemirror_mode": {
    "name": "ipython",
    "version": 2.0
   },
   "file_extension": ".py",
   "mimetype": "text/x-python",
   "name": "python",
   "nbconvert_exporter": "python",
   "pygments_lexer": "ipython2",
   "version": "2.7.6"
  }
 },
 "nbformat": 4,
 "nbformat_minor": 0
}